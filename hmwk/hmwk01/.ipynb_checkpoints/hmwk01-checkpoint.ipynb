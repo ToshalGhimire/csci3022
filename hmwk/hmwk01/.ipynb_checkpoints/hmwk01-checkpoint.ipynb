{
 "cells": [
  {
   "cell_type": "markdown",
   "metadata": {},
   "source": [
    "# Homework 1: Data Cleaning and Exploratory Data Analysis \n",
    "***\n",
    "\n",
    "**Name**: Toshal Ghimire \n",
    "\n",
    "**Section**: 001\n",
    "***\n",
    "\n",
    "This assignment is due on Moodle by **5pm on Friday September 15th**. Your solutions to theoretical questions should be done in Markdown directly below the associated question.  Your solutions to computational questions should include any specified Python code and results as well as written commentary on your conclusions.  Remember that you are encouraged to discuss the problems with your classmates, but **you must write all code and solutions on your own**.   \n",
    "\n",
    "**NOTES**: \n",
    "\n",
    "- Unless a url is given for a data set, you will find the required data in the same directory as this assignment on GitHub.\n",
    "- If you're not familiar with typesetting math directly into Markdown then by all means, do your work on paper first and then typeset it later.  Remember that there is a [reference guide](https://math.meta.stackexchange.com/questions/5020/mathjax-basic-tutorial-and-quick-reference) linked on Piazza on writing math in Markdown. \n",
    "- It is **bad form** to make your reader interpret numerical output from your code.  If a question asks you to compute some value from the data you should show your code output **AND** write a summary of the results in Markdown directly below your code. \n",
    "\n"
   ]
  },
  {
   "cell_type": "code",
   "execution_count": 2,
   "metadata": {
    "collapsed": true
   },
   "outputs": [],
   "source": [
    "import pandas as pd\n",
    "import numpy as np\n",
    "import matplotlib.pylab as plt\n",
    "%matplotlib inline"
   ]
  },
  {
   "cell_type": "markdown",
   "metadata": {},
   "source": [
    "### Problem 1 \n",
    "***\n",
    "\n",
    "An owner of a taxi company wants to estimate his fleet's average fuel economy over the next year in order to estimate the company's future fuel costs.  His fleet of taxis is made up of 100 Crown Victorias, 50 Toyota Priuses, and 50 Ford Escapes.  The owner randomly selects 12 vehicles from his vehicle registration rolls and tracks their fuel usage in miles per gallon over the next week.  So as to get a proper estimate, he intentionally selects 6 Crown Vics, 3 Priuses, and 3 Escapes to track. \n",
    "\n",
    "Identify the following: \n",
    "\n",
    "- the population \n",
    "- the sample frame \n",
    "- the sample \n",
    "- the type of sample \n",
    "- the quantity of interest "
   ]
  },
  {
   "cell_type": "markdown",
   "metadata": {
    "collapsed": true
   },
   "source": [
    " population is the total number of taxies \n",
    " the sample frame is the total number of cars in his company so 200\n",
    " the sample is the 12 cars that he selected (6 crown victorias, 3 toyota priuses and 3 ford escapes)\n",
    " this is a stratifed sample, he chose 6% of cars in each make of taxies that were in is company\n",
    " the quantity of interest is the miles per gallon of the next week"
   ]
  },
  {
   "cell_type": "markdown",
   "metadata": {},
   "source": [
    "### Problem 2 \n",
    "***\n",
    "\n",
    "A method to investigate the sensitivity of the sample mean and the sample median to extreme outliers is to replace one or more elements in a given dataset by a number $y$ and investigate the eﬀect when $y$ goes to inﬁnity. To illustrate this, consider the dataset\n",
    "\n",
    "$$\n",
    "4.6 \\quad \n",
    "3.0 \\quad \n",
    "3.2 \\quad\n",
    "4.2 \\quad\n",
    "5.0\n",
    "$$\n",
    "\n",
    "with sample mean $4$ and sample median $4.2$. \n",
    "\n",
    "**Part A**: We replace the element $3.2$ by some real number $y$. What happens with the sample mean and the sample median of this new dataset as $y \\rightarrow \\infty$?\n"
   ]
  },
  {
   "cell_type": "markdown",
   "metadata": {
    "collapsed": true
   },
   "source": [
    " the sample mean will increase as y -> infinity \n",
    " the sample median will varry bettween y (when 4.2< y < 4.6), 4.2 (when y < 4.2) and 4.6 (when 4.6 < y)"
   ]
  },
  {
   "cell_type": "markdown",
   "metadata": {},
   "source": [
    "**Part B**: We replace a number of elements by some real number $y$. How many elements do we need to replace so that the sample median of the new dataset goes to infinity as $y \\rightarrow \\infty$?"
   ]
  },
  {
   "cell_type": "markdown",
   "metadata": {
    "collapsed": true
   },
   "source": [
    " we need to replace the higest 3 values with the real number y inorder for the median to go to infinity as y goes to infinity \n",
    " this is because the smallest 2 numbers can be any value inorder for the next higher number to be the median since we only have\n",
    " 5 total numbers in this dataset"
   ]
  },
  {
   "cell_type": "markdown",
   "metadata": {},
   "source": [
    "**Part C**: Suppose we have another data set of size $n$. How many elements do we need to replace by some real number $y$, so that the sample mean of the new dataset goes to infinity as $y \\rightarrow \\infty$? And how many elements do we need to replace, so that the sample median of the new dataset goes to infinity? "
   ]
  },
  {
   "cell_type": "markdown",
   "metadata": {
    "collapsed": true
   },
   "source": [
    "only one elements can be changed to some real number y, inorder for the sample mean to go to infinity as y goes to infinity \n",
    "\n",
    "the sample median can go to infinity as long as\n",
    "     case n is even: n/2 + 1 need to be replaced by y\n",
    "     case n is odd: n/2 + .5  need to be replaced by y"
   ]
  },
  {
   "cell_type": "markdown",
   "metadata": {},
   "source": [
    "### Problem 3 \n",
    "***\n",
    "\n",
    "Let $x_1, x_2, \\ldots, x_n$ be $n$ observations of a variable of interest.  Recall that the sample mean $\\bar{x}_n$ and sample variance $s^2_n$ are given by \n",
    "\n",
    "$$\n",
    "\\bar{x}_n = \\frac{1}{n}\\sum_{k=1}^n x_k \\quad \\textrm{and} \\quad s^2_n = \\frac{1}{n-1}\\sum_{k=1}^n \\left( x_k - \\bar{x}_n\\right)^2\n",
    "$$\n",
    "\n",
    "where here the subscript $n$'s indicate the number of observations in the sample. Notice that a natural computation of the variance requires two passes over the data: one to compute the mean, and a second to subtract the mean from each observation and compute the sum of squares. It is often useful to be able to compute the variance in a single pass, inspecting each value $x_k$ only once; for example, when the data are being collected without enough storage to keep all the values, or when costs of memory access dominate those of computation. In this problem you will explore two methods for such an _online_ computation of the mean and variance.  \n",
    "\n",
    "**Part A**: Show algebraically that the following relation holds between the mean of the first $n-1$ observations and the mean of all $n$ observations: \n",
    "\n",
    "$$\n",
    "\\bar{x}_n = \\bar{x}_{n-1} + \\frac{x_n - \\bar{x}_{n-1}}{n}\n",
    "$$"
   ]
  },
  {
   "cell_type": "markdown",
   "metadata": {
    "collapsed": true
   },
   "source": [
    "$$ \n",
    "\\frac{1}{n}\\sum_{k=1}^nx_k = \\bar{x}_{n-1} + \\frac{x_n - \\bar{x}_n-1}{n}\\\\\n",
    "\\frac{1}{n}\\sum_{k=1}^nx_k = \\frac{1}{n-1} \\sum_{k=1}^{n-1}x_{k} + \\frac{x_n - \\frac{1}{n-1}\\sum_{k=1}^{n-1}x_{k}}{n}\\\\\n",
    "\\frac{1}{n}\\sum_{k=1}^nx_k = \\frac{1}{n-1} \\sum_{k=1}^{n-1}x_{k} + \\frac{1}{n}(x_n) - \\frac{1}{n(n-1)}\\sum_{k=1}^{n-1}x_{k}\\\\\n",
    "\\frac{1}{n}\\sum_{k=1}^nx_k = (\\frac{1}{n-1}\\frac{1}{n(n-1)}) (\\sum_{k=1}^{n-1}x_{k} + \\frac{1}{n}(x_n)) \\\\\n",
    "\\frac{1}{n}\\sum_{k=1}^nx_k = (\\frac{1}{n-1}\\frac{1}{n(n-1)}) (\\sum_{k=1}^{n}x_{k} ) \\\\\n",
    "\\frac{1}{n}\\sum_{k=1}^nx_k = (\\frac{n-1}{n(n-1)}) (\\sum_{k=1}^{n}x_{k} ) \\\\\n",
    "\\frac{1}{n}\\sum_{k=1}^nx_k = (\\frac{1}{n}) (\\sum_{k=1}^{n}x_{k} ) \\\\\n",
    "\\frac{1}{n}\\sum_{k=1}^nx_k = \\frac{1}{n}\\sum_{k=1}^{n}x_{k}  \\\\\n",
    "$$"
   ]
  },
  {
   "cell_type": "markdown",
   "metadata": {},
   "source": [
    "**Part B**: Show algebraically that the following relation holds between the variance of the first $n-1$ observations and the variance of all $n$ observations: \n",
    "\n",
    "$$\n",
    "s^2_n = \\frac{(n-2)}{(n-1)}s^2_{n-1} + \\frac{(x_n - \\bar{x}_{n-1})^2}{n}\n",
    "$$"
   ]
  },
  {
   "cell_type": "code",
   "execution_count": null,
   "metadata": {
    "collapsed": true
   },
   "outputs": [],
   "source": []
  },
  {
   "cell_type": "markdown",
   "metadata": {},
   "source": [
    "**Part C**: It turns out that in some scenarios the variance calculation in **Part B** can suffer from numerical instability (that is, due to round-off errors and finite precision arithmetic, the algorithm can return garbage).  A better method is to update the sum of squares term incrementally and then divide by $n-1$ at the end.  Define the sum of squares with $n$ observations as $\n",
    "M_n = \\sum_{k=1}^n (x_k - \\bar{x}_n)^2$. We can then compute the sample variance as $s_n^2 = M_n/(n-1)$.\n",
    "\n",
    "Show algebraically that the following relation holds between the sum of squares with $n-1$ observations and the sum of squares with all $n$ observations: \n",
    "\n",
    "$$\n",
    "M_n = M_{n-1} + (x_n - \\bar{x}_{n-1})(x_n - \\bar{x}_n)\n",
    "$$"
   ]
  },
  {
   "cell_type": "markdown",
   "metadata": {
    "collapsed": true
   },
   "source": [
    "$$\n",
    "M_n - M_{n-1} = (x_n - \\bar{x}_{n-1})(x_n-\\bar{x}_n)\\\\\n",
    "\\sum_{k=1}^{n}(x_k-\\bar{x}_n)^2 - \\sum_{k=1}^{n-1}(x_k-\\bar{x}_{n-1})^2 =(x_n - \\bar{x}_{n-1})(x_n-\\bar{x}_n)\\\\\n",
    "\\sum_{k=1}^{n-1}((x_k-\\bar{x}_n)^2 + (x_n-\\bar{x}_n)^2 - \\sum_{k=1}^{n-1}(x_k-\\bar{x}_{n-1})^2 =(x_n - \\bar{x}_{n-1})(x_n-\\bar{x}_n)\\\\\n",
    "\\sum_{k=1}^{n-1}((x_k-\\bar{x}_n)^2-(x_k-\\bar{x}_{n-1})^2) + (x_n-\\bar{x}_n)^2 =(x_n - \\bar{x}_{n-1})(x_n-\\bar{x}_n)\\\\\n",
    "\\sum_{k=1}^{n-1}((x_k-\\bar{x}_n+x_k-\\bar{x}_{n-1})(x_k-\\bar{x}_n-x_k+\\bar{x}_{n-1}))+(x_n-\\bar{x}_n)^2=(x_n - \\bar{x}_{n-1})(x_n-\\bar{x}_n)\\\\\n",
    "\\sum_{k=1}^{n-1}((2x_k-\\bar{x}_n-\\bar{x}_{n-1})(-\\bar{x}_n+\\bar{x}_{n-1})) + (x_n-\\bar{x}_n)^2=(x_n - \\bar{x}_{n-1})(x_n-\\bar{x}_n)\\\\\n",
    "(\\bar{x}_{n-1}-\\bar{x}_n)\\sum_{k=1}^{n-1}((2x_k-(\\bar{x}_n+\\bar{x}_{n-1})) + (x_n-\\bar{x}_n)^2=(x_n - \\bar{x}_{n-1})(x_n-\\bar{x}_n)\\\\\n",
    "(\\bar{x}_{n-1}-\\bar{x}_n)(\\sum_{k=1}^{n-1}2x_k-\\sum_{k=1}^{n-1}\\bar{x}_n-\\sum_{k=1}^{n-1}\\bar{x}_{n-1})+(x_n-\\bar{x}_n)^2 =(x_n - \\bar{x}_{n-1})(x_n-\\bar{x}_n)\\\\\n",
    "(\\bar{x}_{n-1}-\\bar{x}_n)(2\\bar{x}_{n-1}(n-1)-(n-1)\\bar{x}_n-(n-1)\\bar{x}_{n-1})+(x_n-\\bar{x}_n)^2 =(x_n - \\bar{x}_{n-1})(x_n-\\bar{x}_n)\\\\\n",
    "(\\bar{x}_{n-1}-\\bar{x}_n)((n-1)\\bar{x}_{n-1}-(n-1)\\bar{x}_n)+(x_n-\\bar{x}_n)^2 = (x_n - \\bar{x}_{n-1})(x_n-\\bar{x}_n)\\\\\n",
    "(\\bar{x}_{n-1}-\\bar{x}_n)(\\sum_{k=1}^{n-1}x_k-(n\\bar{x}_n))+(x_n-\\bar{x}_n)^2 = (x_n - \\bar{x}_{n-1})(x_n-\\bar{x}_n)\\\\\n",
    "(\\bar{x}_{n-1}-\\bar{x}_n)(\\sum_{k=1}^{n-1}x_k - (\\sum_{k=1}^{n}x_k-\\bar{x}_n))+(x_n-\\bar{x}_n)^2=(x_n - \\bar{x}_{n-1})(x_n-\\bar{x}_n)\\\\\n",
    "(\\bar{x}_{n-1}-\\bar{x}_n)(\\sum_{k=1}^{n-1}x_k-(x_n+\\sum_{k=1}^{n-1}-\\bar{x}_n))+(x_n-\\bar{x}_n)^2=(x_n - \\bar{x}_{n-1})(x_n-\\bar{x}_n)\\\\\n",
    "(\\bar{x}_{n-1}-\\bar{x}_n)(\\bar{x}_n-x_n)+(x_n-\\bar{x}_n)^2 =(x_n - \\bar{x}_{n-1})(x_n-\\bar{x}_n)\\\\\n",
    "(\\bar{x}_{n-1}-\\bar{x}_n)(\\bar{x}_{n-1}-\\bar{x}_n)(-1)+(x_n-\\bar{x}_n))=(x_n - \\bar{x}_{n-1})(x_n-\\bar{x}_n)\\\\\n",
    "(\\bar{x}_{n-1}-\\bar{x}_n)((\\bar{x}_n-\\bar{x}_{n-1})+(x_n-\\bar{x}_n))=(x_n - \\bar{x}_{n-1})(x_n-\\bar{x}_n)\\\\\n",
    "(x_n - \\bar{x}_{n-1})(x_n-\\bar{x}_n)=(x_n - \\bar{x}_{n-1})(x_n-\\bar{x}_n)\\\\\n",
    "$$"
   ]
  },
  {
   "cell_type": "markdown",
   "metadata": {},
   "source": [
    "**Informative But Not Required**: Write a Python function that implements the online variance computation in **Part C** and  requires only one pass over the data. "
   ]
  },
  {
   "cell_type": "markdown",
   "metadata": {},
   "source": [
    "### Problem 4\n",
    "*** \n",
    "Some claim that the final hours aboard the RMS Titanic were marked by class warfare; others claim it was characterized by male chivalry.  We have the data on survival rates by class and by sex, so let's figure out whether there is evidence for these scenarios. Access the titanic data in titanic_data.csv and store it in a Pandas DataFrame. The data contains information pertaining to class status (**Pclass**), survival of passengers (**Survived**), and gender (**Sex**), among others.  "
   ]
  },
  {
   "cell_type": "code",
   "execution_count": 23,
   "metadata": {},
   "outputs": [
    {
     "data": {
      "text/html": [
       "<div>\n",
       "<style>\n",
       "    .dataframe thead tr:only-child th {\n",
       "        text-align: right;\n",
       "    }\n",
       "\n",
       "    .dataframe thead th {\n",
       "        text-align: left;\n",
       "    }\n",
       "\n",
       "    .dataframe tbody tr th {\n",
       "        vertical-align: top;\n",
       "    }\n",
       "</style>\n",
       "<table border=\"1\" class=\"dataframe\">\n",
       "  <thead>\n",
       "    <tr style=\"text-align: right;\">\n",
       "      <th></th>\n",
       "      <th>PassengerId</th>\n",
       "      <th>Survived</th>\n",
       "      <th>Pclass</th>\n",
       "      <th>Name</th>\n",
       "      <th>Sex</th>\n",
       "      <th>Age</th>\n",
       "      <th>SibSp</th>\n",
       "      <th>Parch</th>\n",
       "      <th>Ticket</th>\n",
       "      <th>Fare</th>\n",
       "      <th>Cabin</th>\n",
       "      <th>Embarked</th>\n",
       "    </tr>\n",
       "  </thead>\n",
       "  <tbody>\n",
       "    <tr>\n",
       "      <th>0</th>\n",
       "      <td>1</td>\n",
       "      <td>0</td>\n",
       "      <td>3</td>\n",
       "      <td>Braund, Mr. Owen Harris</td>\n",
       "      <td>male</td>\n",
       "      <td>22.0</td>\n",
       "      <td>1</td>\n",
       "      <td>0</td>\n",
       "      <td>A/5 21171</td>\n",
       "      <td>7.2500</td>\n",
       "      <td>NaN</td>\n",
       "      <td>S</td>\n",
       "    </tr>\n",
       "    <tr>\n",
       "      <th>1</th>\n",
       "      <td>2</td>\n",
       "      <td>1</td>\n",
       "      <td>1</td>\n",
       "      <td>Cumings, Mrs. John Bradley (Florence Briggs Th...</td>\n",
       "      <td>female</td>\n",
       "      <td>38.0</td>\n",
       "      <td>1</td>\n",
       "      <td>0</td>\n",
       "      <td>PC 17599</td>\n",
       "      <td>71.2833</td>\n",
       "      <td>C85</td>\n",
       "      <td>C</td>\n",
       "    </tr>\n",
       "    <tr>\n",
       "      <th>2</th>\n",
       "      <td>3</td>\n",
       "      <td>1</td>\n",
       "      <td>3</td>\n",
       "      <td>Heikkinen, Miss. Laina</td>\n",
       "      <td>female</td>\n",
       "      <td>26.0</td>\n",
       "      <td>0</td>\n",
       "      <td>0</td>\n",
       "      <td>STON/O2. 3101282</td>\n",
       "      <td>7.9250</td>\n",
       "      <td>NaN</td>\n",
       "      <td>S</td>\n",
       "    </tr>\n",
       "    <tr>\n",
       "      <th>3</th>\n",
       "      <td>4</td>\n",
       "      <td>1</td>\n",
       "      <td>1</td>\n",
       "      <td>Futrelle, Mrs. Jacques Heath (Lily May Peel)</td>\n",
       "      <td>female</td>\n",
       "      <td>35.0</td>\n",
       "      <td>1</td>\n",
       "      <td>0</td>\n",
       "      <td>113803</td>\n",
       "      <td>53.1000</td>\n",
       "      <td>C123</td>\n",
       "      <td>S</td>\n",
       "    </tr>\n",
       "    <tr>\n",
       "      <th>4</th>\n",
       "      <td>5</td>\n",
       "      <td>0</td>\n",
       "      <td>3</td>\n",
       "      <td>Allen, Mr. William Henry</td>\n",
       "      <td>male</td>\n",
       "      <td>35.0</td>\n",
       "      <td>0</td>\n",
       "      <td>0</td>\n",
       "      <td>373450</td>\n",
       "      <td>8.0500</td>\n",
       "      <td>NaN</td>\n",
       "      <td>S</td>\n",
       "    </tr>\n",
       "  </tbody>\n",
       "</table>\n",
       "</div>"
      ],
      "text/plain": [
       "   PassengerId  Survived  Pclass  \\\n",
       "0            1         0       3   \n",
       "1            2         1       1   \n",
       "2            3         1       3   \n",
       "3            4         1       1   \n",
       "4            5         0       3   \n",
       "\n",
       "                                                Name     Sex   Age  SibSp  \\\n",
       "0                            Braund, Mr. Owen Harris    male  22.0      1   \n",
       "1  Cumings, Mrs. John Bradley (Florence Briggs Th...  female  38.0      1   \n",
       "2                             Heikkinen, Miss. Laina  female  26.0      0   \n",
       "3       Futrelle, Mrs. Jacques Heath (Lily May Peel)  female  35.0      1   \n",
       "4                           Allen, Mr. William Henry    male  35.0      0   \n",
       "\n",
       "   Parch            Ticket     Fare Cabin Embarked  \n",
       "0      0         A/5 21171   7.2500   NaN        S  \n",
       "1      0          PC 17599  71.2833   C85        C  \n",
       "2      0  STON/O2. 3101282   7.9250   NaN        S  \n",
       "3      0            113803  53.1000  C123        S  \n",
       "4      0            373450   8.0500   NaN        S  "
      ]
     },
     "execution_count": 23,
     "metadata": {},
     "output_type": "execute_result"
    }
   ],
   "source": [
    "local_path = 'titanic_data.csv'\n",
    "df = pd.read_csv(local_path) \n",
    "df.head()\n"
   ]
  },
  {
   "cell_type": "markdown",
   "metadata": {},
   "source": [
    "**Part A**: Explain in words what patterns you might see in the data if there were male chivalry in the final hours aboard the Titanic?  What patterns might you see if there were class warfare in the final hours?"
   ]
  },
  {
   "cell_type": "markdown",
   "metadata": {
    "collapsed": true
   },
   "source": [
    "with male chivalry at play, we would see that majortiy of the surivers were women children and the eldery\n",
    "with class warfare at play, we would see that majority  of the surivers were passengers who had more expensive tickets and/or the Pclass was lower"
   ]
  },
  {
   "cell_type": "markdown",
   "metadata": {},
   "source": [
    "**Part B**: Create a clean data set by removing any rows from the DataFrame that are missing values corresponding to **Survived**, **Pclass**, **Age**, or **Sex**. Store the clean data in a DataFrame called dfTitanic. "
   ]
  },
  {
   "cell_type": "code",
   "execution_count": 4,
   "metadata": {},
   "outputs": [
    {
     "data": {
      "text/html": [
       "<div>\n",
       "<style>\n",
       "    .dataframe thead tr:only-child th {\n",
       "        text-align: right;\n",
       "    }\n",
       "\n",
       "    .dataframe thead th {\n",
       "        text-align: left;\n",
       "    }\n",
       "\n",
       "    .dataframe tbody tr th {\n",
       "        vertical-align: top;\n",
       "    }\n",
       "</style>\n",
       "<table border=\"1\" class=\"dataframe\">\n",
       "  <thead>\n",
       "    <tr style=\"text-align: right;\">\n",
       "      <th></th>\n",
       "      <th>PassengerId</th>\n",
       "      <th>Survived</th>\n",
       "      <th>Pclass</th>\n",
       "      <th>Name</th>\n",
       "      <th>Sex</th>\n",
       "      <th>Age</th>\n",
       "      <th>SibSp</th>\n",
       "      <th>Parch</th>\n",
       "      <th>Ticket</th>\n",
       "      <th>Fare</th>\n",
       "      <th>Cabin</th>\n",
       "      <th>Embarked</th>\n",
       "    </tr>\n",
       "  </thead>\n",
       "  <tbody>\n",
       "    <tr>\n",
       "      <th>0</th>\n",
       "      <td>1</td>\n",
       "      <td>0</td>\n",
       "      <td>3</td>\n",
       "      <td>Braund, Mr. Owen Harris</td>\n",
       "      <td>male</td>\n",
       "      <td>22.0</td>\n",
       "      <td>1</td>\n",
       "      <td>0</td>\n",
       "      <td>A/5 21171</td>\n",
       "      <td>7.2500</td>\n",
       "      <td>NaN</td>\n",
       "      <td>S</td>\n",
       "    </tr>\n",
       "    <tr>\n",
       "      <th>1</th>\n",
       "      <td>2</td>\n",
       "      <td>1</td>\n",
       "      <td>1</td>\n",
       "      <td>Cumings, Mrs. John Bradley (Florence Briggs Th...</td>\n",
       "      <td>female</td>\n",
       "      <td>38.0</td>\n",
       "      <td>1</td>\n",
       "      <td>0</td>\n",
       "      <td>PC 17599</td>\n",
       "      <td>71.2833</td>\n",
       "      <td>C85</td>\n",
       "      <td>C</td>\n",
       "    </tr>\n",
       "    <tr>\n",
       "      <th>2</th>\n",
       "      <td>3</td>\n",
       "      <td>1</td>\n",
       "      <td>3</td>\n",
       "      <td>Heikkinen, Miss. Laina</td>\n",
       "      <td>female</td>\n",
       "      <td>26.0</td>\n",
       "      <td>0</td>\n",
       "      <td>0</td>\n",
       "      <td>STON/O2. 3101282</td>\n",
       "      <td>7.9250</td>\n",
       "      <td>NaN</td>\n",
       "      <td>S</td>\n",
       "    </tr>\n",
       "    <tr>\n",
       "      <th>3</th>\n",
       "      <td>4</td>\n",
       "      <td>1</td>\n",
       "      <td>1</td>\n",
       "      <td>Futrelle, Mrs. Jacques Heath (Lily May Peel)</td>\n",
       "      <td>female</td>\n",
       "      <td>35.0</td>\n",
       "      <td>1</td>\n",
       "      <td>0</td>\n",
       "      <td>113803</td>\n",
       "      <td>53.1000</td>\n",
       "      <td>C123</td>\n",
       "      <td>S</td>\n",
       "    </tr>\n",
       "    <tr>\n",
       "      <th>4</th>\n",
       "      <td>5</td>\n",
       "      <td>0</td>\n",
       "      <td>3</td>\n",
       "      <td>Allen, Mr. William Henry</td>\n",
       "      <td>male</td>\n",
       "      <td>35.0</td>\n",
       "      <td>0</td>\n",
       "      <td>0</td>\n",
       "      <td>373450</td>\n",
       "      <td>8.0500</td>\n",
       "      <td>NaN</td>\n",
       "      <td>S</td>\n",
       "    </tr>\n",
       "  </tbody>\n",
       "</table>\n",
       "</div>"
      ],
      "text/plain": [
       "   PassengerId  Survived  Pclass  \\\n",
       "0            1         0       3   \n",
       "1            2         1       1   \n",
       "2            3         1       3   \n",
       "3            4         1       1   \n",
       "4            5         0       3   \n",
       "\n",
       "                                                Name     Sex   Age  SibSp  \\\n",
       "0                            Braund, Mr. Owen Harris    male  22.0      1   \n",
       "1  Cumings, Mrs. John Bradley (Florence Briggs Th...  female  38.0      1   \n",
       "2                             Heikkinen, Miss. Laina  female  26.0      0   \n",
       "3       Futrelle, Mrs. Jacques Heath (Lily May Peel)  female  35.0      1   \n",
       "4                           Allen, Mr. William Henry    male  35.0      0   \n",
       "\n",
       "   Parch            Ticket     Fare Cabin Embarked  \n",
       "0      0         A/5 21171   7.2500   NaN        S  \n",
       "1      0          PC 17599  71.2833   C85        C  \n",
       "2      0  STON/O2. 3101282   7.9250   NaN        S  \n",
       "3      0            113803  53.1000  C123        S  \n",
       "4      0            373450   8.0500   NaN        S  "
      ]
     },
     "execution_count": 4,
     "metadata": {},
     "output_type": "execute_result"
    }
   ],
   "source": [
    "dfTitanic = df[pd.notnull(df['Age'or'Survived'or 'Pclass' or 'Sex'])]\n",
    "dfTitanic.head()"
   ]
  },
  {
   "cell_type": "markdown",
   "metadata": {},
   "source": [
    "**Part C**: Determine the fraction of survivors from each passenger class. "
   ]
  },
  {
   "cell_type": "code",
   "execution_count": 5,
   "metadata": {},
   "outputs": [
    {
     "name": "stdout",
     "output_type": "stream",
     "text": [
      "122 from first class survived, 83 from second class, 85 from third\n"
     ]
    }
   ],
   "source": [
    "Pclass_1 = dfTitanic.loc[dfTitanic[\"Pclass\"] == 1, \"Survived\"].sum()\n",
    "Pclass_2 = dfTitanic.loc[dfTitanic[\"Pclass\"] == 2, \"Survived\"].sum()\n",
    "Pclass_3 = dfTitanic.loc[dfTitanic[\"Pclass\"] == 3, \"Survived\"].sum()\n",
    "\n",
    "\n",
    "print(\"{} from first class survived, {} from second class, {} from third\".format(Pclass_1,Pclass_2,Pclass_3))"
   ]
  },
  {
   "cell_type": "markdown",
   "metadata": {},
   "source": [
    "**Part D**: Compute the fraction of survivors according to class and gender.  Did men in first class or women in third class have a higher survival rate? "
   ]
  },
  {
   "cell_type": "code",
   "execution_count": 52,
   "metadata": {},
   "outputs": [
    {
     "name": "stdout",
     "output_type": "stream",
     "text": [
      "0.39603960396039606 male and 0.9647058823529412 female surivial rate form first class\n",
      "0.15151515151515152 male and 0.918918918918919 female surivial rate form second class\n",
      "0.3838383838383838 male and 0.46078431372549017 female surivial rate form third class\n"
     ]
    }
   ],
   "source": [
    "Male_1 = (dfTitanic.loc[(dfTitanic.Sex == \"male\") & (dfTitanic.Pclass ==1), \"Survived\"].sum())/len(dfTitanic.loc[(dfTitanic.Sex == \"male\") & (dfTitanic.Pclass ==1)])\n",
    "Female_1 = (dfTitanic.loc[(dfTitanic.Sex == \"female\") & (dfTitanic.Pclass ==1), \"Survived\"].sum())/len(dfTitanic.loc[(dfTitanic.Sex == \"female\") & (dfTitanic.Pclass ==1)])\n",
    "\n",
    "Male_2 = (dfTitanic.loc[(dfTitanic.Sex == \"male\") & (dfTitanic.Pclass ==2), \"Survived\"].sum())/len(dfTitanic.loc[(dfTitanic.Sex == \"male\") & (dfTitanic.Pclass ==2)])\n",
    "Female_2 = (dfTitanic.loc[(dfTitanic.Sex == \"female\") & (dfTitanic.Pclass ==2), \"Survived\"].sum())/len(dfTitanic.loc[(dfTitanic.Sex == \"female\") & (dfTitanic.Pclass ==2)])\n",
    "\n",
    "Male_3 = (dfTitanic.loc[(dfTitanic.Sex == \"male\") & (dfTitanic.Pclass ==3), \"Survived\"].sum())/len(dfTitanic.loc[(dfTitanic.Sex == \"male\") & (dfTitanic.Pclass ==2)])\n",
    "Female_3 = (dfTitanic.loc[(dfTitanic.Sex == \"female\") & (dfTitanic.Pclass ==3), \"Survived\"].sum())/len(dfTitanic.loc[(dfTitanic.Sex == \"female\") & (dfTitanic.Pclass ==3)])\n",
    "\n",
    "\n",
    "print (\"{} male and {} female surivial rate form first class\".format(Male_1,Female_1))\n",
    "print (\"{} male and {} female surivial rate form second class\".format(Male_2,Female_2))\n",
    "print (\"{} male and {} female surivial rate form third class\".format(Male_3,Female_3))\n",
    "\n",
    "\n"
   ]
  },
  {
   "cell_type": "markdown",
   "metadata": {},
   "source": [
    "it looks like the men from first class had a ever so slightly lower surivial rate then the women from third class. But the diffrence being only 0.0647. "
   ]
  },
  {
   "cell_type": "markdown",
   "metadata": {},
   "source": [
    "**Part E**: How would you characterize the distribution of **AGE**? (By _characterize_ we mean that you should indicate whether the data are unimodal, bimodal, multimodal, symmetric, negatively skewed, positively skewed, etc.)  Make any necessary graphical summaries to justify your conclusion. "
   ]
  },
  {
   "cell_type": "code",
   "execution_count": 7,
   "metadata": {},
   "outputs": [
    {
     "data": {
      "image/png": "[encoded data removed]",
      "text/plain": [
       "<matplotlib.figure.Figure at 0x1adb536fda0>"
      ]
     },
     "metadata": {},
     "output_type": "display_data"
    }
   ],
   "source": [
    "bins = range(0,100,10)\n",
    "\n",
    "fig, ax = plt.subplots(figsize=(10,4))\n",
    "dfTitanic.hist(column = \"Age\", ax=ax, bins=bins);\n"
   ]
  },
  {
   "cell_type": "code",
   "execution_count": 8,
   "metadata": {},
   "outputs": [
    {
     "name": "stdout",
     "output_type": "stream",
     "text": [
      "Using a bin size of 7, according to this histogram this is unimodal, and postivy skewed\n"
     ]
    }
   ],
   "source": [
    "dfTitanic.Age.describe()\n",
    "print(\"Using a bin size of 7, according to this histogram this is unimodal, and postivy skewed\")"
   ]
  },
  {
   "cell_type": "markdown",
   "metadata": {},
   "source": [
    "**Part F**: Were the median and mean ages for females who survived higher or lower than for females who did not survive?  "
   ]
  },
  {
   "cell_type": "code",
   "execution_count": 9,
   "metadata": {
    "scrolled": true
   },
   "outputs": [
    {
     "name": "stdout",
     "output_type": "stream",
     "text": [
      "28.84771573604061 is the mean and 28.0 is the median age for women who surived.\n",
      "25.046875 is the mean and 24.5 is the median age for women who Died.\n",
      "\n",
      "The mean and median ages for females who survived was higer then those who did not survived\n"
     ]
    }
   ],
   "source": [
    "mean_S = dfTitanic.loc[(dfTitanic.Sex == 'female') & (dfTitanic.Survived == 1),\"Age\"].mean()\n",
    "median_S = dfTitanic.loc[(dfTitanic.Sex == 'female') & (dfTitanic.Survived == 1),\"Age\"].median()\n",
    "\n",
    "mean_D = dfTitanic.loc[(dfTitanic.Sex == 'female') & (dfTitanic.Survived == 0),\"Age\"].mean()\n",
    "median_D = dfTitanic.loc[(dfTitanic.Sex == 'female') & (dfTitanic.Survived == 0),\"Age\"].median()\n",
    "\n",
    "print( \"{} is the mean and {} is the median age for women who surived.\".format(mean_S,median_S))\n",
    "print( \"{} is the mean and {} is the median age for women who Died.\".format(mean_D,median_D))\n",
    "\n",
    "print(\"\\nThe mean and median ages for females who survived was higer then those who did not survived\")"
   ]
  },
  {
   "cell_type": "markdown",
   "metadata": {},
   "source": [
    "**Part G**: Do the data suggest class warfare, male chivalry, or some combination of both characteristics in the final hours aboard the Titanic?  Justify your conclusion based on the computations done above, or do any other analysis that you like, but be sure to clearly justify your conclusion. "
   ]
  },
  {
   "cell_type": "markdown",
   "metadata": {
    "collapsed": true
   },
   "source": [
    "It is a mix of both class warefare and male chivary. \n",
    "According to the data, of all the people who surived 42.1% were from 1st class,28.6 from 2nd class and 29.3% from the 3rd class \n",
    "this is an average of 38 more people that surived from 1st classcompared to the 2nd and 3rd class.\n",
    "\n",
    "However, majority of the survivers from the first class were female, only about 32.7% from were male. \n",
    "67.9% of the over all survivers were female. and 41.6% of those women were from the first class\n",
    "\n",
    "with this data we can conclude both factors came into play, \n",
    "majority of the surivers were women, and 41.6% of those women were from the first class"
   ]
  },
  {
   "cell_type": "markdown",
   "metadata": {},
   "source": [
    "### Problem 5\n",
    "***\n",
    "Access the data from url https://www.stat.berkeley.edu/~statlabs/data/babies.data and store the information in a Pandas DataFrame.  A description of the variables can be found at https://www.stat.berkeley.edu/~statlabs/labs.html.  These data are a subset from a much larger study dealing with child health and development. \n"
   ]
  },
  {
   "cell_type": "code",
   "execution_count": 10,
   "metadata": {},
   "outputs": [
    {
     "name": "stdout",
     "output_type": "stream",
     "text": [
      "<class 'pandas.core.frame.DataFrame'>\n",
      "RangeIndex: 1236 entries, 0 to 1235\n",
      "Data columns (total 7 columns):\n",
      "bwt          1236 non-null int64\n",
      "gestation    1236 non-null int64\n",
      "parity       1236 non-null int64\n",
      "age          1236 non-null int64\n",
      "height       1236 non-null int64\n",
      "weight       1236 non-null int64\n",
      "smoke        1236 non-null int64\n",
      "dtypes: int64(7)\n",
      "memory usage: 67.7 KB\n"
     ]
    }
   ],
   "source": [
    "weblink = \"https://www.stat.berkeley.edu/~statlabs/data/babies.data\"\n",
    "\n",
    "df = pd.read_csv(weblink,sep='\\s+')\n",
    "df.head()\n",
    "df.info()\n"
   ]
  },
  {
   "cell_type": "markdown",
   "metadata": {},
   "source": [
    "\n",
    "**Part A**: Create a clean data set that removes subjects if any observations on the subject are unknown.  Note that that collectors of the data set used values like $9$, $99$, $999$, to denote unknown values.  You can look at the documentation linked in the problem description to determine which unknown-value marker was used for each characteristic.  Store the modified data set in a Pandas DataFrame called dfBabies. "
   ]
  },
  {
   "cell_type": "code",
   "execution_count": 11,
   "metadata": {},
   "outputs": [
    {
     "data": {
      "text/html": [
       "<div>\n",
       "<style>\n",
       "    .dataframe thead tr:only-child th {\n",
       "        text-align: right;\n",
       "    }\n",
       "\n",
       "    .dataframe thead th {\n",
       "        text-align: left;\n",
       "    }\n",
       "\n",
       "    .dataframe tbody tr th {\n",
       "        vertical-align: top;\n",
       "    }\n",
       "</style>\n",
       "<table border=\"1\" class=\"dataframe\">\n",
       "  <thead>\n",
       "    <tr style=\"text-align: right;\">\n",
       "      <th></th>\n",
       "      <th>bwt</th>\n",
       "      <th>gestation</th>\n",
       "      <th>parity</th>\n",
       "      <th>age</th>\n",
       "      <th>height</th>\n",
       "      <th>weight</th>\n",
       "      <th>smoke</th>\n",
       "    </tr>\n",
       "  </thead>\n",
       "  <tbody>\n",
       "    <tr>\n",
       "      <th>0</th>\n",
       "      <td>120</td>\n",
       "      <td>284</td>\n",
       "      <td>0</td>\n",
       "      <td>27</td>\n",
       "      <td>62</td>\n",
       "      <td>100</td>\n",
       "      <td>0</td>\n",
       "    </tr>\n",
       "    <tr>\n",
       "      <th>1</th>\n",
       "      <td>113</td>\n",
       "      <td>282</td>\n",
       "      <td>0</td>\n",
       "      <td>33</td>\n",
       "      <td>64</td>\n",
       "      <td>135</td>\n",
       "      <td>0</td>\n",
       "    </tr>\n",
       "    <tr>\n",
       "      <th>2</th>\n",
       "      <td>128</td>\n",
       "      <td>279</td>\n",
       "      <td>0</td>\n",
       "      <td>28</td>\n",
       "      <td>64</td>\n",
       "      <td>115</td>\n",
       "      <td>1</td>\n",
       "    </tr>\n",
       "    <tr>\n",
       "      <th>4</th>\n",
       "      <td>108</td>\n",
       "      <td>282</td>\n",
       "      <td>0</td>\n",
       "      <td>23</td>\n",
       "      <td>67</td>\n",
       "      <td>125</td>\n",
       "      <td>1</td>\n",
       "    </tr>\n",
       "    <tr>\n",
       "      <th>5</th>\n",
       "      <td>136</td>\n",
       "      <td>286</td>\n",
       "      <td>0</td>\n",
       "      <td>25</td>\n",
       "      <td>62</td>\n",
       "      <td>93</td>\n",
       "      <td>0</td>\n",
       "    </tr>\n",
       "  </tbody>\n",
       "</table>\n",
       "</div>"
      ],
      "text/plain": [
       "   bwt  gestation  parity  age  height  weight  smoke\n",
       "0  120        284       0   27      62     100      0\n",
       "1  113        282       0   33      64     135      0\n",
       "2  128        279       0   28      64     115      1\n",
       "4  108        282       0   23      67     125      1\n",
       "5  136        286       0   25      62      93      0"
      ]
     },
     "execution_count": 11,
     "metadata": {},
     "output_type": "execute_result"
    }
   ],
   "source": [
    "df = df[df.bwt != 999]\n",
    "df = df[df.gestation != 999]\n",
    "df = df[df.parity != 9]\n",
    "df = df[df.height != 99]\n",
    "df = df[df.weight != 999]\n",
    "df = df[df.smoke != 9]\n",
    "\n",
    "df.head()\n"
   ]
  },
  {
   "cell_type": "markdown",
   "metadata": {},
   "source": [
    "**Part B**: Use the information in dfBabies to create a density histogram of the birth weights of babies whose mothers have never smoked (smoke=0) and another histogram placed directly below the first in the same graphics device for the birth weights of babies whose mothers currently smoke (smoke=1).  Make the range of the horizontal axis $30$ to $180$ (ounces) for both histograms.  Make sure to give each subplot titles and label axes. "
   ]
  },
  {
   "cell_type": "code",
   "execution_count": 12,
   "metadata": {},
   "outputs": [
    {
     "data": {
      "text/plain": [
       "count    715.000000\n",
       "mean     123.085315\n",
       "std       17.423695\n",
       "min       55.000000\n",
       "25%      113.000000\n",
       "50%      123.000000\n",
       "75%      134.000000\n",
       "max      176.000000\n",
       "Name: bwt, dtype: float64"
      ]
     },
     "execution_count": 12,
     "metadata": {},
     "output_type": "execute_result"
    },
    {
     "data": {
      "image/png": "[encoded data removed]",
      "text/plain": [
       "<matplotlib.figure.Figure at 0x1adb5849e10>"
      ]
     },
     "metadata": {},
     "output_type": "display_data"
    }
   ],
   "source": [
    "# Initialize figure \n",
    "fig, axes = plt.subplots(nrows=2, ncols=1, figsize=(8,8))\n",
    "\n",
    "#new DB based on smokers\n",
    "dfSmoke = df[df.smoke == 1]\n",
    "dfNonSmoke = df[df.smoke == 0]\n",
    "\n",
    "\n",
    "#NonSmokers\n",
    "dfNonSmoke.hist(column = 'bwt', ax = axes[0])\n",
    "axes[0].set_title(\"Birth Weights for Non-Smokers\", fontsize=20)\n",
    "axes[0].set_xlabel(\"Weight (ounces)\", fontsize=16)\n",
    "axes[0].set_ylabel(\"Frequency\", fontsize=16)\n",
    "\n",
    "axes[0].set_xlim([30,180])\n",
    "\n",
    "#Smokers \n",
    "dfSmoke.hist(column = 'bwt', ax = axes[1])\n",
    "axes[1].set_title(\"Birth Weights for Smokers\", fontsize=20)\n",
    "axes[1].set_xlabel(\"Weight (ounces)\", fontsize=16)\n",
    "axes[1].set_ylabel(\"Frequency\", fontsize=16)\n",
    "\n",
    "axes[1].set_xlim([30,180])\n",
    "\n",
    "fig.subplots_adjust(hspace=.5)\n",
    "\n",
    "dfNonSmoke.bwt.describe()"
   ]
  },
  {
   "cell_type": "markdown",
   "metadata": {},
   "source": [
    "**Part C**: Based on the histograms in **Part B**, characterize the distribution of baby birth weights for both non-smoking and smoking mothers. "
   ]
  },
  {
   "cell_type": "code",
   "execution_count": 13,
   "metadata": {
    "collapsed": true
   },
   "outputs": [],
   "source": [
    "#according to the two histograms the distribution \n",
    "#between both smokers and nonsmokers mothers are both unimodle"
   ]
  },
  {
   "cell_type": "markdown",
   "metadata": {},
   "source": [
    "**Part D**: What are the mean and median weight difference between babies of smokers and non-smokers?  Can you think of any reason not to use the mean as a measure of center to compare birth weights for this problem? "
   ]
  },
  {
   "cell_type": "code",
   "execution_count": 14,
   "metadata": {},
   "outputs": [
    {
     "name": "stdout",
     "output_type": "stream",
     "text": [
      "113.82391304347826 is the mean weights when mothers smoked.\n",
      "123.08531468531469 is the mean weights whos mothers did not smoke.\n",
      "\n",
      "115.0 is the median weights when mothers smoked.\n",
      "123.0 is the median weights when mothers did not smoke.\n",
      "\n",
      "9.26 is the Mean diffrence between nonsmokers and smokers\n",
      "8.0 is the Median diffrence between nonsmokers and smokers\n"
     ]
    }
   ],
   "source": [
    "#the mean is more accuarate to use when the data is symmetrically distributed \n",
    "\n",
    "print ('{} is the mean weights when mothers smoked.\\n{} is the mean weights whos mothers did not smoke.\\n'.format(dfSmoke.bwt.mean(),dfNonSmoke.bwt.mean()))\n",
    "print ('{} is the median weights when mothers smoked.\\n{} is the median weights when mothers did not smoke.\\n'.format(dfSmoke.bwt.median(),dfNonSmoke.bwt.median())) \n",
    "\n",
    "diffMean = dfNonSmoke.bwt.mean() - dfSmoke.bwt.mean() \n",
    "diffMedian = dfNonSmoke.bwt.median() - dfSmoke.bwt.median()\n",
    "\n",
    "print('{0:.2f} is the Mean diffrence between nonsmokers and smokers'.format(diffMean))\n",
    "print('{} is the Median diffrence between nonsmokers and smokers'.format(diffMedian))"
   ]
  },
  {
   "cell_type": "markdown",
   "metadata": {},
   "source": [
    "**Part E**: Create side-by-side box-and-whisker plots to compare the birth weights of babies whose mothers never smoked and those who currently smoke.  Use the box-and-whisker plot conventions discussed in lecture. "
   ]
  },
  {
   "cell_type": "code",
   "execution_count": 15,
   "metadata": {},
   "outputs": [
    {
     "data": {
      "text/plain": [
       "<matplotlib.text.Text at 0x1adb5968630>"
      ]
     },
     "execution_count": 15,
     "metadata": {},
     "output_type": "execute_result"
    },
    {
     "data": {
      "image/png": "[encoded data removed]",
      "text/plain": [
       "<matplotlib.figure.Figure at 0x1adb58492b0>"
      ]
     },
     "metadata": {},
     "output_type": "display_data"
    }
   ],
   "source": [
    "fig,ax = plt.subplots(figsize=(6,8))\n",
    "\n",
    "bp = df.loc[(df.smoke == 0) | (df.smoke == 1)].boxplot(column=[\"bwt\"], by = \"smoke\", ax=ax,widths=[.5, .5])\n",
    "plt.xticks([1,2],[\"Non-Smokers\", \"Smokers\"], rotation=0, fontsize=16)\n",
    "\n",
    "ax.set_title(\"Non-Smokers vs Smokers Birth Weight\", fontsize = 18)\n",
    "ax.set_ylabel(\"Weight (in ounces)\", fontsize=16)"
   ]
  },
  {
   "cell_type": "markdown",
   "metadata": {},
   "source": [
    "**Part F**: Using the box-and-whisker plots from **Part E** comment on the distributions of body weights of babies within each smoking / non-smoking groups as well as the comparison of the two classes. "
   ]
  },
  {
   "cell_type": "code",
   "execution_count": 16,
   "metadata": {
    "collapsed": true
   },
   "outputs": [],
   "source": [
    "#according to the box plots the overall weights is lower for mothers who smoke \n",
    "\n",
    "#the Q1 for the smokers is significantly lower then the q1 for non-smokers \n",
    "\n",
    "#there is also a lot more outliers in the non-smokers boxplot"
   ]
  },
  {
   "cell_type": "markdown",
   "metadata": {},
   "source": [
    "### Problem 6: Cleaning Election Results Data  \n",
    "***\n",
    "\n",
    "The file 2014\\_election\\_results.csv contains data from congressional district races during the 2014 midterm elections.  The problem is that the data is **extremely dirty**.  Your goal in the problem will be to use Pandas to clean the election result data and then, if possible, determine the names of the winners in each congressional district as well as the vote percentage margin that they won by.  Remember that data cleaning and wrangling is a messy business.  Don't be afraid to roll your sleeves up and get hacky!   \n",
    "\n",
    "**Part A**: Complete the clean_election_data( ) function to return a clean DataFrame that accomplishes the following: \n",
    "\n",
    "- remove rows in the DataFrame that are missing values in columns **STATE**, **DISTRICT**, and/or **GENERAL PERCENT**\n",
    "\n",
    "<p> </p> \n",
    "\n",
    "- replace unknown names in **CANDIDATE NAME** with:  \n",
    "    - the value from **CANDIDATE NAME (Last)**, if available\n",
    "    - the string \"UNKNOWN\" if impossible to determine the full or last name \n",
    "    - **Note**: besides \"NaN\", data collectors appear to have used the string \"Scattered\" to indicate missing names as well\n",
    "<p> </p> \n",
    "- convert the strings in **GENERAL PERCENT** to values of type float between $0$ and $100$ \n",
    "<p> </p> \n",
    "- restrict the DataFrame to only the columns **STATE**, **DISTRICT**, **CANDIDATE NAME**, **GENERAL PERCENT**"
   ]
  },
  {
   "cell_type": "code",
   "execution_count": 17,
   "metadata": {},
   "outputs": [
    {
     "data": {
      "text/html": [
       "<div>\n",
       "<style>\n",
       "    .dataframe thead tr:only-child th {\n",
       "        text-align: right;\n",
       "    }\n",
       "\n",
       "    .dataframe thead th {\n",
       "        text-align: left;\n",
       "    }\n",
       "\n",
       "    .dataframe tbody tr th {\n",
       "        vertical-align: top;\n",
       "    }\n",
       "</style>\n",
       "<table border=\"1\" class=\"dataframe\">\n",
       "  <thead>\n",
       "    <tr style=\"text-align: right;\">\n",
       "      <th></th>\n",
       "      <th>STATE</th>\n",
       "      <th>D</th>\n",
       "      <th>CANDIDATE NAME</th>\n",
       "      <th>GENERAL PERCENT</th>\n",
       "    </tr>\n",
       "  </thead>\n",
       "  <tbody>\n",
       "    <tr>\n",
       "      <th>0</th>\n",
       "      <td>Alabama</td>\n",
       "      <td>1</td>\n",
       "      <td>Byrne, Bradley</td>\n",
       "      <td>68.16</td>\n",
       "    </tr>\n",
       "    <tr>\n",
       "      <th>1</th>\n",
       "      <td>Alabama</td>\n",
       "      <td>1</td>\n",
       "      <td>LeFlore, Burton R.</td>\n",
       "      <td>31.71</td>\n",
       "    </tr>\n",
       "    <tr>\n",
       "      <th>2</th>\n",
       "      <td>Alabama</td>\n",
       "      <td>1</td>\n",
       "      <td>UNKNOWN</td>\n",
       "      <td>0.13</td>\n",
       "    </tr>\n",
       "    <tr>\n",
       "      <th>5</th>\n",
       "      <td>Alabama</td>\n",
       "      <td>2</td>\n",
       "      <td>Roby, Martha</td>\n",
       "      <td>67.34</td>\n",
       "    </tr>\n",
       "    <tr>\n",
       "      <th>6</th>\n",
       "      <td>Alabama</td>\n",
       "      <td>2</td>\n",
       "      <td>Wright</td>\n",
       "      <td>32.56</td>\n",
       "    </tr>\n",
       "  </tbody>\n",
       "</table>\n",
       "</div>"
      ],
      "text/plain": [
       "     STATE  D      CANDIDATE NAME  GENERAL PERCENT\n",
       "0  Alabama  1      Byrne, Bradley            68.16\n",
       "1  Alabama  1  LeFlore, Burton R.            31.71\n",
       "2  Alabama  1             UNKNOWN             0.13\n",
       "5  Alabama  2        Roby, Martha            67.34\n",
       "6  Alabama  2              Wright            32.56"
      ]
     },
     "execution_count": 17,
     "metadata": {},
     "output_type": "execute_result"
    }
   ],
   "source": [
    "df = pd.read_csv(\"2014_election_results.csv\")\n",
    "def clean_election_data(df):\n",
    "    df = pd.read_csv(\"2014_election_results.csv\")\n",
    "    df = df.dropna(subset=[\"D\", \"STATE\", \"GENERAL PERCENT\"]).copy()\n",
    "\n",
    "    def fix_percent(val):\n",
    "        stripV = val.strip()\n",
    "        percent = stripV.replace(',', '.').replace(\"%\",\"\")\n",
    "        float_percent = float(percent)\n",
    "        return float_percent\n",
    "\n",
    "    def fix_Name(val):\n",
    "        if (val == \"Scattered\"):\n",
    "            val = \"UNKNOWN\"\n",
    "    \n",
    "        return val\n",
    "    \n",
    "    df[\"GENERAL PERCENT\"] = df[\"GENERAL PERCENT\"].apply(fix_percent)\n",
    "    df[\"CANDIDATE NAME\"] = df[\"CANDIDATE NAME\"].fillna(df[\"CANDIDATE NAME (Last)\"])\n",
    "    df[\"CANDIDATE NAME\"] = df[\"CANDIDATE NAME\"].apply(fix_Name)\n",
    "\n",
    "\n",
    "    col_list = [\"STATE\", \"D\", \"CANDIDATE NAME\", \"GENERAL PERCENT\"]\n",
    "    df = df.loc[:,col_list]\n",
    "\n",
    "    \n",
    "    # read in dirty data \n",
    "    dfClean = df\n",
    "    \n",
    "    return dfClean\n",
    "\n",
    "df = clean_election_data(df)\n",
    "df.head()\n"
   ]
  },
  {
   "cell_type": "markdown",
   "metadata": {},
   "source": [
    "**Part B**: Complete the function winners_and_margins( ) that takes in your clean DataFrame from **Part A** and returns a DataFrame with one row per state-district pair and with columns **STATE**, **D**, **WINNER**, and **MARGIN** where\n",
    "\n",
    "- **STATE** and **D** are as defined in the original DataFrame \n",
    "<p> </p> \n",
    "- **WINNER** is the name of the candidate that had the largest general vote percentage (which may possibly be \"UNKNOWN\")\n",
    "<p> </p> \n",
    "- **MARGIN** is the difference between the winning general vote percentage and the second highest vote percentage.  If there is only one candidate in a particular district you should list the general vote percentage obtained by the sole candidate. \n",
    "\n",
    "<p> </p> \n",
    "\n",
    "Finally, your DataFrame should be **sorted from most contentious races to least contentious** (i.e. from smallest winning margin to the largest). "
   ]
  },
  {
   "cell_type": "code",
   "execution_count": 18,
   "metadata": {},
   "outputs": [
    {
     "data": {
      "text/html": [
       "<div>\n",
       "<style>\n",
       "    .dataframe thead tr:only-child th {\n",
       "        text-align: right;\n",
       "    }\n",
       "\n",
       "    .dataframe thead th {\n",
       "        text-align: left;\n",
       "    }\n",
       "\n",
       "    .dataframe tbody tr th {\n",
       "        vertical-align: top;\n",
       "    }\n",
       "</style>\n",
       "<table border=\"1\" class=\"dataframe\">\n",
       "  <thead>\n",
       "    <tr style=\"text-align: right;\">\n",
       "      <th></th>\n",
       "      <th>STATE</th>\n",
       "      <th>D</th>\n",
       "      <th>WINNER</th>\n",
       "      <th>GENERAL PERCENT</th>\n",
       "      <th>MARGIN</th>\n",
       "    </tr>\n",
       "  </thead>\n",
       "  <tbody>\n",
       "    <tr>\n",
       "      <th>2799</th>\n",
       "      <td>Pennsylvania</td>\n",
       "      <td>14</td>\n",
       "      <td>Doyle, Mike</td>\n",
       "      <td>100.00</td>\n",
       "      <td>0.00</td>\n",
       "    </tr>\n",
       "    <tr>\n",
       "      <th>813</th>\n",
       "      <td>Georgia</td>\n",
       "      <td>13</td>\n",
       "      <td>Scott</td>\n",
       "      <td>100.00</td>\n",
       "      <td>0.00</td>\n",
       "    </tr>\n",
       "    <tr>\n",
       "      <th>743</th>\n",
       "      <td>Georgia</td>\n",
       "      <td>3</td>\n",
       "      <td>Westmoreland, Lynn Acton</td>\n",
       "      <td>100.00</td>\n",
       "      <td>0.07</td>\n",
       "    </tr>\n",
       "    <tr>\n",
       "      <th>85</th>\n",
       "      <td>Arizona</td>\n",
       "      <td>2</td>\n",
       "      <td>McSally</td>\n",
       "      <td>50.01</td>\n",
       "      <td>0.07</td>\n",
       "    </tr>\n",
       "    <tr>\n",
       "      <th>197</th>\n",
       "      <td>California</td>\n",
       "      <td>7</td>\n",
       "      <td>Bera, Ami</td>\n",
       "      <td>50.40</td>\n",
       "      <td>0.80</td>\n",
       "    </tr>\n",
       "  </tbody>\n",
       "</table>\n",
       "</div>"
      ],
      "text/plain": [
       "             STATE   D                    WINNER  GENERAL PERCENT  MARGIN\n",
       "2799  Pennsylvania  14               Doyle, Mike           100.00    0.00\n",
       "813        Georgia  13                     Scott           100.00    0.00\n",
       "743        Georgia   3  Westmoreland, Lynn Acton           100.00    0.07\n",
       "85         Arizona   2                   McSally            50.01    0.07\n",
       "197     California   7                 Bera, Ami            50.40    0.80"
      ]
     },
     "execution_count": 18,
     "metadata": {},
     "output_type": "execute_result"
    }
   ],
   "source": [
    "df = clean_election_data(df)\n",
    "\n",
    "\n",
    "def winners_and_margins(df):\n",
    "    df[\"MARGIN\"] = df[\"GENERAL PERCENT\"] - df[\"GENERAL PERCENT\"].shift(-1)\n",
    "    df[\"MARGIN\"] = abs(df.MARGIN)\n",
    "        \n",
    "    dfWinners = df.drop_duplicates(subset=[\"CANDIDATE NAME\"])\n",
    "    dfWinners = df.drop_duplicates(subset=[\"D\",\"STATE\"], keep =\"first\")\n",
    "    \n",
    "    df.columns.values[2] = 'WINNER'\n",
    "    dfWinners = dfWinners.sort_values(by=\"MARGIN\", ascending=True)\n",
    "    return dfWinners\n",
    "\n",
    "dfWinners = winners_and_margins(df)\n",
    "dfWinners.head()\n"
   ]
  },
  {
   "cell_type": "markdown",
   "metadata": {},
   "source": [
    "### Challenge Problem\n",
    "***\n",
    "\n",
    "In every homework assignment we'll give you a Challenge Problem.  Challenge Problems never need to be turned in (and in fact, will not be graded) but we encourage you to give them a shot (after completing the required homework problems) and discuss them with your classmates and your instructors.  \n",
    "\n",
    "In the 1954 book _How to Lie with Statistics_, authors Darrell Huff and Irving Geis describe some common ways that people concoct misleading graphics.  An excerpt from these chapters can be found [here](https://piazza.com/class_profile/get_resource/j6pfvv6b9ze4gi/j771gy7fdpe3e7).  \n",
    "\n",
    "Your job is to go out onto the web and find some data that you find interesting.  Then create both a misleading and a non-misleading version of a graphical summary for the data. **If you come up with something that you're proud of then please post it to Piazza!**"
   ]
  },
  {
   "cell_type": "code",
   "execution_count": null,
   "metadata": {
    "collapsed": true
   },
   "outputs": [],
   "source": []
  }
 ],
 "metadata": {
  "kernelspec": {
   "display_name": "Python 3",
   "language": "python",
   "name": "python3"
  },
  "language_info": {
   "codemirror_mode": {
    "name": "ipython",
    "version": 3
   },
   "file_extension": ".py",
   "mimetype": "text/x-python",
   "name": "python",
   "nbconvert_exporter": "python",
   "pygments_lexer": "ipython3",
   "version": "3.6.1"
  }
 },
 "nbformat": 4,
 "nbformat_minor": 2
}
