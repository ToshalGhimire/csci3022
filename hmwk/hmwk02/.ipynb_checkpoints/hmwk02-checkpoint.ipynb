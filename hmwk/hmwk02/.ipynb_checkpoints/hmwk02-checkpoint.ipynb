{
 "cells": [
  {
   "cell_type": "markdown",
   "metadata": {},
   "source": [
    "# Homework 2: Introduction to Probability and Simulation \n",
    "***\n",
    "\n",
    "**Name**: \n",
    "\n",
    "**Section**: (001 or 002)\n",
    "***\n",
    "\n",
    "This assignment is due on Moodle by **5pm on Friday September 29th**. Your solutions to theoretical questions should be done in Markdown/MathJax directly below the associated question.  Your solutions to computational questions should include any specified Python code and results as well as written commentary on your conclusions.  Remember that you are encouraged to discuss the problems with your instructors and classmates, but **you must write all code and solutions on your own**.  For a refresher on the course **Collaboration Policy** click [here](https://github.com/chrisketelsen/csci3022/blob/master/resources/syllabus.md#collaboration-policy).  \n",
    "\n",
    "**NOTES**: \n",
    "\n",
    "- Some problems with code may be autograded.  If we provide a function API please do not change it.  If we do not provide a function API then you're free to structure your code however you like. \n",
    "- It is **bad form** to make your reader interpret numerical output from your code.  If a question asks you to compute some value from the data you should show your code output **AND** write a summary of the results in Markdown directly below your code.\n",
    "- Because you can technically evaluate notebook cells is a non-linear order, it's a good idea to do Cell $\\rightarrow$ Run All as a check before submitting your solutions.  That way if we need to run your code you will know that it will work as expected. \n",
    "- Submit only this Jupyter notebook to Moodle.  Do not compress it using tar, rar, zip, etc. "
   ]
  },
  {
   "cell_type": "code",
   "execution_count": 2,
   "metadata": {
    "collapsed": true,
    "scrolled": true
   },
   "outputs": [],
   "source": [
    "import pandas as pd\n",
    "import numpy as np\n",
    "import random\n",
    "import matplotlib.pylab as plt\n",
    "%matplotlib inline"
   ]
  },
  {
   "cell_type": "markdown",
   "metadata": {},
   "source": [
    "### [20 points] Problem 1 \n",
    "***\n",
    "\n",
    "In a box there are 99 fair coins and 1 double-headed coin.  You grab one coin at random.  \n",
    "\n",
    "Work the following problems by hand (but don't be afraid to simulate to check your result!). \n"
   ]
  },
  {
   "cell_type": "markdown",
   "metadata": {},
   "source": [
    "**Part A**: You toss your coin one time.  What is the probability that you toss a Heads? "
   ]
  },
  {
   "cell_type": "markdown",
   "metadata": {},
   "source": [
    "$ (\\frac{1}{100} * 1) + (\\frac{99}{100} * \\frac{1}{2}) = \\frac{101}{200}$\n",
    "\n",
    "the probality of fliping heads is $\\frac{101}{200}$ or 0.505"
   ]
  },
  {
   "cell_type": "markdown",
   "metadata": {},
   "source": [
    "**Part B**: Suppose you toss a Heads.  What is the probability that the coin you chose from the box is double-sided? "
   ]
  },
  {
   "cell_type": "markdown",
   "metadata": {},
   "source": [
    "$P(DoubleSided \\mid Heads) = \\frac{P(Heads \\mid DoubleSided ) * P(DoubleSided)}{P( Heads)}$\n",
    "\n",
    "$P(DoubleSided \\mid Heads) = \\frac{1*\\frac{1}{100}}{\\frac{101}{200}}$ \n",
    "\n",
    "$P(DoubleSided \\mid Heads) = \\frac{2}{101} = 0.0198 $\n",
    "\n",
    "Using bayes probablity theorem: There is 0.0198% chance that the coin chosen was a double sided coin "
   ]
  },
  {
   "cell_type": "markdown",
   "metadata": {},
   "source": [
    "**Part C**: Suppose you flip your coin $n$ times and record each outcome.  Obviously, if you flip Tails you know you picked a fair coin. But, if you flipped $n$ Heads in a row you would have a stronger belief that you in fact grabbed the double-headed coin.  What is the smallest value of $n$ Heads in a row that would make you believe that there's a better-than-half chance that the coin you grabbed is double-headed?  "
   ]
  },
  {
   "cell_type": "markdown",
   "metadata": {},
   "source": [
    "$P(DoubleSided \\mid Heads) = \\frac{P(Heads \\mid DoubleSided )  P(DoubleSided)} {P(Heads \\mid DoubleSided ) P(DoubleSided) + P(Heads \\mid NotDoubleSided )  P(NotDoubleSided)}$\n",
    "\n",
    "$0.5 > \\frac{P(Heads \\mid DoubleSided )  P(DoubleSided)}{P(Heads \\mid DoubleSided )  P(DoubleSided) + P(Heads \\mid NotDoubleSided )P(NotDoubleSided)}$\n",
    "\n",
    "$0.5 > \\frac{1  \\frac{1}{100}}{\\frac{1}{100} + \\frac{1}{2}  \\frac{99}{100}} = .0198$\n",
    "for when the first coin is head \n",
    "\n",
    "This is beacuse for the $P(Heads \\mid NotDoubleSided )$ is 0.5 for the first flip\n",
    "\n",
    "Now we must find the chance of getting head multiple times in a row, this is represented by $ \\frac{1}{2}^n $\n",
    "\n",
    "solve for n\n",
    "$0.5 > \\frac{1  \\frac{1}{100}}{\\frac{1}{100} + \\frac{1}{2}^n  \\frac{99}{100}}$\n",
    "\n",
    "$ \\frac{1}{100} + \\frac{1}{2}^n  \\frac{99}{100} > \\frac{1  \\frac{1}{100}}{.5}$\n",
    "\n",
    "$ \\frac{1}{2}^n  \\frac{99}{100} > \\frac{1  \\frac{1}{100}}{.5} - \\frac{1}{100}$\n",
    "\n",
    "$ \\frac{1}{2}^n > \\frac{\\frac{1  \\frac{1}{100}}{.5} - \\frac{1}{100}}{\\frac{99}{100}}$\n",
    "\n",
    "$ \\frac{1}{2}^n > \\frac{.01}{.99}$\n",
    "using log properties i was able to determine the n to be 6.62\n",
    "\n",
    "rounding up to 7, the smallest value of n needs to be 7 inorder for the probality of grabing a doublesided coin to be better then half\n",
    "\n",
    "probality of grabing a double sided coin is 0.56 when head is fliped 7 times in a row"
   ]
  },
  {
   "cell_type": "markdown",
   "metadata": {},
   "source": [
    "### [20 points] Problem 2  \n",
    "***\n",
    "\n",
    "In soccer tournaments, [penalty shootouts](https://en.wikipedia.org/wiki/Penalty_shoot-out_(association_football) are used to determine the outcome of the game if the score is tied after regulation play.   In a penalty shootout, each team takes turns attempting 5 shots on the goal from the penalty mark that are defended only by the opposing team's goalkeeper, with the team that makes more successful kicks being declared the winner of the match.  If after 5 shots the score is still tied, the game enters _sudden death_ and the teams continue to take 1 shot each until one team scores and the other does not. \n",
    "\n",
    "Suppose that two teams ( Team $A$ and Team $B~$) are still tied at the end of the first round of 5 penalty shots and are entering sudden death.  Each team will now take one shot each in an attempt to win.  Suppose that the result of one shot is independent of the other shots, Team $A$ makes their shot with probability $p$, and Team $B$ makes their shot with probability $q$.  Let $W$ be the event that \"Team $A$ wins the game\", $E$ be the event that \"the game ends after the first round of sudden death penalty shots\", and $T$ be the event that \"the game is still tied after the first round of sudden death penalty shots\". \n",
    "\n",
    "**Part A**: The shootout continues until Team $A$ or Team $B$ wins.  What is the sample space $\\Omega$ for this experiment?  Represent the outcomes of individual shots by $G$ for a goal and $M$ for a miss and assume that Team $A$ shoots before Team $B$."
   ]
  },
  {
   "cell_type": "markdown",
   "metadata": {},
   "source": [
    "$ \\Omega$ = {(G,G),(M,M),(G,M),(M,G)} \n",
    "\n",
    "where (x,y) = (Team A's Shot, Team B's Shot) \\\\"
   ]
  },
  {
   "cell_type": "markdown",
   "metadata": {},
   "source": [
    "**Part B**: Determine $P(W \\mid E)$ in terms of $p$ and $q$."
   ]
  },
  {
   "cell_type": "markdown",
   "metadata": {},
   "source": [
    "$P(W \\mid E) = \\frac{P(E \\mid W)}{P(E)} $\n",
    "\n",
    "$P(W \\mid E) = \\frac{p~(1-q)}{P~(E)} $\n",
    "\n",
    "$P(W \\mid E) = \\frac{p~(1-q)}{p~(1-q)~ +~ q~(1-p)} $"
   ]
  },
  {
   "cell_type": "markdown",
   "metadata": {},
   "source": [
    "**Part C**: Explain why events $W$ and $T$ are independent. "
   ]
  },
  {
   "cell_type": "markdown",
   "metadata": {},
   "source": [
    "Independent means, one event does not alter the out come of another\n",
    "\n",
    "If it is a tie after the first round (**T**) then the event **W** \"Team A wins\" is not changed at all beacuse there will  be another round and all the goals in the previous rounds will not effect the outcomes of the next round, so it will not effect the event **W** and on whether **Team A** wins or not."
   ]
  },
  {
   "cell_type": "markdown",
   "metadata": {},
   "source": [
    "**Part D**: Use the Law of Total Probability to show that $P(W) = p(1-q) + (2pq - p - q +1) ~P(W \\mid T)$. "
   ]
  },
  {
   "cell_type": "markdown",
   "metadata": {},
   "source": [
    "\n",
    "law of total probility: $P(W) = \\sum P(W \\mid Event_{i})~P(Event_{i}) $\n",
    "\n",
    "Theres two ways that Team $A$ can win:\n",
    "\n",
    "one where event **E**  occur and team $A$ wins in first round (Part A), and the other event is where team A wins after Event **T** occurs \n",
    "\n",
    "$T^c$ is the same as event E \n",
    "\n",
    "$P(W) = P(W \\mid E)~P(E) + P(W \\mid T)~P(T)$\n",
    "\n",
    "$P(W) = 1~p(1-q) + P(W \\mid T)~($Two ways T can occur$)$\n",
    "\n",
    "$P(W) = p(1-q) + P(W \\mid T)~(pq + (1-p)(1-q))$\n",
    "\n",
    "$P(W) = p(1-q) + P(W \\mid T)~(pq + 1-p-q+ pq)$\n",
    "\n",
    "$P(W) = p(1-q) + (2pq-p-q + 1)P(W \\mid T)$"
   ]
  },
  {
   "cell_type": "markdown",
   "metadata": {},
   "source": [
    "**Part E**: Use the fact from **Part C** that $P(W \\mid T) = P(W)$ to determine $P(W)$ in terms of $p$ and $q$. "
   ]
  },
  {
   "cell_type": "markdown",
   "metadata": {},
   "source": [
    "$P(W) = p(1-q) + (2pq-p-q + 1)~P(W \\mid T)$\n",
    "\n",
    "$P(W) = p(1-q) + (2pq-p-q + 1)~P(W)$\n",
    "\n",
    "$P(W) - (2pq-p-q + 1)~P(W) = p~(1-q)  $\n",
    "\n",
    "$P(W)~(1 - (2pq-p-q + 1)) = p~(1-q)  $\n",
    "\n",
    "$P(W)~(1 - 2pq +p+q - 1)) = p~(1-q)  $\n",
    "\n",
    "$P(W) = \\frac{p~(1-q)}{1 - 2pq +p+q - 1}  $\n",
    "\n",
    "$P(W) = \\frac{p~(1-q)}{p+q - 2pq  }  $"
   ]
  },
  {
   "cell_type": "markdown",
   "metadata": {},
   "source": [
    "**Part F**: Explain why the answers to **Part B** and **Part E** are the same. "
   ]
  },
  {
   "cell_type": "markdown",
   "metadata": {
    "collapsed": true
   },
   "source": [
    "Beacuse event W and event E are also independent of eachother, since event E is the complement of event T, so the probality of $P(W \\mid E)$ = P(W) since these events are independent of one another"
   ]
  },
  {
   "cell_type": "markdown",
   "metadata": {},
   "source": [
    "**Part G**: Explain the significance of the solution technique for $P(W)$ outlined in **Part D** and **Part E**.  Why did we go this route instead of computing $P(W)$ directly?  Can we always use such techniques?  "
   ]
  },
  {
   "cell_type": "markdown",
   "metadata": {},
   "source": []
  },
  {
   "cell_type": "markdown",
   "metadata": {},
   "source": [
    "### [25 points] Problem 3 \n",
    "***\n",
    "\n",
    "After Intro. Data Science lets out for the day, there are a bunch of different locations that Dan and Chris individually end up at.  Sometimes they go get dinner at the UMC ($~U~$) or coffee at Starbucks ($~S~$). Sometimes they go straight to their vehicles in the parking lot ($~P~$) and head home.  And sometimes they go back to their respective offices in the Engineering Center ($~E~$) or Fleming ($~F~$) to work. You can see the locations and paths that they take from Muenzinger ($~M~$) and between other locations on the linked [map](https://www.cs.colorado.edu/~ketelsen/files/courses/csci3022/hmwk/hmwk02/campus_map.pdf).\n",
    "\n",
    "Now, on a Wednesday after a particularly grueling start to the week, Dan and Chris leave class at Muenzinger in a bit of a daze and just sorta wander randomly between their usual haunts.  Their movement is governed by the following rule: when leaving a particular location, they randomly select one of the available paths to travel along (again, see the [map](https://www.cs.colorado.edu/~ketelsen/files/courses/csci3022/hmwk/hmwk02/campus_map.pdf)) with equal probability. "
   ]
  },
  {
   "cell_type": "markdown",
   "metadata": {},
   "source": [
    "**Part A**: Compute (by hand) the probability that Chris ends up at the Engineering Center after first visiting one other location after leaving Muenzinger. "
   ]
  },
  {
   "cell_type": "markdown",
   "metadata": {
    "collapsed": true
   },
   "source": [
    "Probality of going to EC via UMC is $\\frac{1}{16}$\n",
    "\n",
    "Probality of going to EC via Parking lot is $\\frac{1}{8}$\n",
    "\n",
    "Total probality is $\\frac{1}{16} + \\frac{1}{8} = \\frac{3}{16}$"
   ]
  },
  {
   "cell_type": "markdown",
   "metadata": {},
   "source": [
    "**Part B**: Compute (by hand) the probability that Dan ends up at the UMC _either_ as his first _or_ second location visited after leaving Muenzinger. "
   ]
  },
  {
   "cell_type": "markdown",
   "metadata": {
    "collapsed": true
   },
   "source": [
    "Probality of going to UMC via Starbucks is $\\frac{1}{8}$\n",
    "\n",
    "Probality of going to UMC via EC is $\\frac{1}{16}$\n",
    "\n",
    "Probality of going to UMC is $\\frac{1}{4}$\n",
    "\n",
    "Total probality is $\\frac{1}{8} + \\frac{1}{16} + \\frac{1}{4} = \\frac{7}{16}$"
   ]
  },
  {
   "cell_type": "markdown",
   "metadata": {},
   "source": [
    "**Part C**: Suppose that Chris goes back to his office in the Engineering Center and Dan goes back to his office in Fleming.  Later that night they both leave their offices and wander around. You should assume that they take the same amount of time to go from location to location.  What is the probability that they run into each other in the same location on their second location visited? "
   ]
  },
  {
   "cell_type": "code",
   "execution_count": null,
   "metadata": {
    "collapsed": true
   },
   "outputs": [],
   "source": []
  },
  {
   "cell_type": "markdown",
   "metadata": {},
   "source": [
    "**Part D**: Write a simulation to confirm that your by-hand calculations in **Part A**, **Part B**, and **Part C** are correct. Make sure you run your simulations for enough trials that your estimates are reasonably close to your analytic results. In addition to showing your code, you should thoroughly explain in Markdown (not just in code comments) what your code is doing and why it is a reasonable approximation of the probabilities in **Part A**, **Part B**, and **Part C**.  "
   ]
  },
  {
   "cell_type": "code",
   "execution_count": 3,
   "metadata": {
    "collapsed": true
   },
   "outputs": [],
   "source": [
    "paths = {\"SM\",\"SU\",\"MS\",\"MU\",\"MP\",\"ME\",\"PM\",\"PE\",\"US\",\"UM\",\"UE\",\"UF\",\"EU\",\"EM\",\"EP\",\"EF\",\"FE\",\"FU\"}"
   ]
  },
  {
   "cell_type": "markdown",
   "metadata": {},
   "source": [
    "### [20 points] Problem 4 \n",
    "***\n",
    "\n",
    "In this problem you will write some code to simulate the game of **Miniopoly** (a very rough approximation of [Monopoly](https://en.wikipedia.org/wiki/Monopoly_(game)).  The game consists of a round board with 40 \"squares\" numbered from $0$ to $40$, where squares $0$ and $40$ are [coincident](https://en.wikipedia.org/wiki/Coincident) and called **GO**.  A player starts on **GO** with \\$200 in their pocket.  On each turn the player rolls a pair of dice and then moves a number of spaces equal to the sum of the dice.  Landing on different squares have different results: \n",
    "\n",
    "- Squares 2, 7, 17, 22, 33, and 36 cause you to draw a card.  The cards tell you to collect \\$50, \\$100, or \\$200, or pay the bank \\$100 or \\$150.  \n",
    "\n",
    "<p> </p>\n",
    "\n",
    "- Squares 0, 10, and 20 do not trigger any action \n",
    "\n",
    "<p> </p>\n",
    "\n",
    "- Square 30 is **Go To Jail**, which sends the player directly to **Jail** and ends the turn \n",
    "\n",
    "<p> </p>\n",
    "\n",
    "- If a player starts a turn from **Jail** she rolls two dice: \n",
    "\n",
    "    - If the player rolls doubles (i.e. the dice have equal values) the player moves from Square 10 a number of squares equal to the sum of the dice\n",
    "    \n",
    "    - If the player rolls anything other than doubles she pays the bank \\$10 and remains in **Jail** \n",
    "    \n",
    "<p> </p>\n",
    "\n",
    "- If the player passes or lands on **GO** she collects \\$200. \n",
    "\n",
    "<p> </p>\n",
    "\n",
    "- If the player lands on any other square not mentioned above, she pays the bank an amount equal to the square's number (e.g. if she lands on Square 29 she pays the bank \\$29). \n",
    "\n",
    "<p> </p>\n",
    "\n",
    "If at any point the player has \\$0 or less they go bankrupt and the game ends. \n",
    "\n",
    "<br>\n",
    "\n",
    "**Part A**: Complete the function miniopoly_turn below. The function should simulate one turn of Miniopoly.  It should take as arguments the player's current location on the board as well as the player's current cash reserves, and return the player's new location and cash reserves after the turn has completed. Note that if a player goes bankrupt during the game you should return their cash as 0 instead of a negative value.  "
   ]
  },
  {
   "cell_type": "code",
   "execution_count": 337,
   "metadata": {
    "collapsed": true,
    "scrolled": true
   },
   "outputs": [],
   "source": [
    "def miniopoly_turn(state, cash):\n",
    "    d1 = random.randint(1,6)\n",
    "    d2 = random.randint(1,6)\n",
    "    move = d1 + d2\n",
    "    \n",
    "    #Bankrupt case\n",
    "    if cash <= 0: \n",
    "        cash = 0\n",
    "        return state,cash\n",
    "   \n",
    "    #Jail case: Free\n",
    "    if state == 30 and (d1 - d2) == 0:\n",
    "        state = 10\n",
    "        state = state + move\n",
    "        if state in (17, 22):\n",
    "            #Card Draw\n",
    "            card = (50,100,200,-100,-150)\n",
    "            cardDraw = random.choice(card)\n",
    "        \n",
    "            cash = cash + cardDraw\n",
    "            #If card drawn makes them bankrupt \n",
    "            if cash <= 0: \n",
    "                cash = 0\n",
    "                return state,cash\n",
    "            return state,cash\n",
    "        \n",
    "        #Paying the Bank    \n",
    "        if state not in (17,22):\n",
    "            cash = cash - state\n",
    "            return state, cash  \n",
    "    \n",
    "    #jail case: No luck\n",
    "    if state == 30 and (d1 - d2) != 0:\n",
    "        cash = cash - 10 \n",
    "        #Bankrupt case\n",
    "        if cash <= 0: \n",
    "            cash = 0\n",
    "            return state,cash\n",
    "        \n",
    "        return state, cash \n",
    "        \n",
    "    \n",
    "    #Moving according to dice role\n",
    "    state = state + move\n",
    "    \n",
    "    #looping and awarding after passing 40\n",
    "    if state >= 40 :\n",
    "        state = state - 40\n",
    "        cash = cash + 200\n",
    "    \n",
    "    #drawing a card \n",
    "    if state in (2, 7, 17, 22, 33, 36):\n",
    "        \n",
    "        #Card Draw\n",
    "        card = (50,100,200,-100,-150)\n",
    "        cardDraw = random.choice(card)\n",
    "        \n",
    "        cash = cash + cardDraw\n",
    "        \n",
    "        #If card drawn makes them bankrupt \n",
    "        if cash <= 0: \n",
    "            cash = 0\n",
    "            return state,cash\n",
    "        \n",
    "    #Paying the Bank    \n",
    "    if state not in (2,7,17,22,33,30,36,0,10,20):\n",
    "        cash = cash - state\n",
    "        \n",
    "        #If paying bank makes them bankrupt \n",
    "        if cash <= 0: \n",
    "            cash = 0\n",
    "            return state,cash\n",
    "    \n",
    "    return state, cash \n",
    "\n",
    "\n",
    "\n",
    "\n",
    "\n",
    "\n",
    "\n",
    "\n",
    "\n",
    "\n",
    "def miniopoly_turn_withMove(state, cash):\n",
    "    d1 = random.randint(1,6)\n",
    "    d2 = random.randint(1,6)\n",
    "    move = d1 + d2\n",
    "    \n",
    "    #Bankrupt case\n",
    "    if cash <= 0: \n",
    "        cash = 0\n",
    "        return state,cash,move\n",
    "   \n",
    "    #Jail case: Free\n",
    "    if state == 30 and (d1 - d2) == 0:\n",
    "        state = 10\n",
    "        state = state + move\n",
    "        if state in (17, 22):\n",
    "            #Card Draw\n",
    "            card = (50,100,200,-100,-150)\n",
    "            cardDraw = random.choice(card)\n",
    "        \n",
    "            cash = cash + cardDraw\n",
    "            #If card drawn makes them bankrupt \n",
    "            if cash <= 0: \n",
    "                cash = 0\n",
    "                return state,cash,move\n",
    "            return state,cash,move\n",
    "        \n",
    "        #Paying the Bank    \n",
    "        if state not in (17,22):\n",
    "            cash = cash - state\n",
    "            return state, cash ,move \n",
    "    \n",
    "    #jail case: No luck\n",
    "    if state == 30 and (d1 - d2) != 0:\n",
    "        cash = cash - 10 \n",
    "        #Bankrupt case\n",
    "        if cash <= 0: \n",
    "            cash = 0\n",
    "            return state,cash,move\n",
    "        \n",
    "        return state, cash ,move\n",
    "        \n",
    "    \n",
    "    #Moving according to dice role\n",
    "    state = state + move\n",
    "    \n",
    "    #looping and awarding after passing 40\n",
    "    if state >= 40 :\n",
    "        state = state - 40\n",
    "        cash = cash + 200\n",
    "    \n",
    "    #drawing a card \n",
    "    if state in (2, 7, 17, 22, 33, 36):\n",
    "        \n",
    "        #Card Draw\n",
    "        card = (50,100,200,-100,-150)\n",
    "        cardDraw = random.choice(card)\n",
    "        \n",
    "        cash = cash + cardDraw\n",
    "        \n",
    "        #If card drawn makes them bankrupt \n",
    "        if cash <= 0: \n",
    "            cash = 0\n",
    "            return state,cash,move\n",
    "        \n",
    "    #Paying the Bank    \n",
    "    if state not in (2,7,17,22,33,30,36,0,10,20):\n",
    "        cash = cash - state\n",
    "        \n",
    "        #If paying bank makes them bankrupt \n",
    "        if cash <= 0: \n",
    "            cash = 0\n",
    "            return state,cash,move\n",
    "    \n",
    "    return state, cash,move \n"
   ]
  },
  {
   "cell_type": "markdown",
   "metadata": {},
   "source": [
    "**Part B**: Use your function from **Part A** to Simulate at least 5000 30-turn games of Miniopoly and make a frequency histogram of the player's cash at the end of the game. "
   ]
  },
  {
   "cell_type": "code",
   "execution_count": 150,
   "metadata": {},
   "outputs": [
    {
     "data": {
      "image/png": "[encoded data removed]",
      "text/plain": [
       "<matplotlib.figure.Figure at 0x1e7adce9eb8>"
      ]
     },
     "metadata": {},
     "output_type": "display_data"
    }
   ],
   "source": [
    "#returns the remaining cash after 30 turns\n",
    "def start(x,y):\n",
    "    i =0\n",
    "    while(i<30):\n",
    "        a,b = miniopoly_turn(x,y)\n",
    "        x,y = a,b\n",
    "        i = i + 1\n",
    "        #print (a,b)\n",
    "    \n",
    "        if i == 30:\n",
    "            return b\n",
    "    \n",
    "        \n",
    "#making a dataframe and storing trials insided the column\n",
    "df = pd.DataFrame(index=range(0,5000),columns=['EndCash'])\n",
    "\n",
    "i = 0\n",
    "while (i < 5000):\n",
    "    x = (start(0,200))\n",
    "    df.iloc[[i]] = x\n",
    "    i = i + 1\n",
    "\n",
    "#graphing the columns\n",
    "fig, ax = plt.subplots(figsize=(15,6))\n",
    "df.EndCash.hist(ax=ax, bins=20)\n",
    "ax.set_xlable = \"CASH at the end of the Game\"\n",
    "ax.set_ylable = \"Frequency\"\n",
    "ax.set_xticks = 100"
   ]
  },
  {
   "cell_type": "markdown",
   "metadata": {},
   "source": [
    "**Part C**: Use your code from **Part A** to estimate the probability that a player goes bankrupt in the first 30 turns of the game. "
   ]
  },
  {
   "cell_type": "code",
   "execution_count": 308,
   "metadata": {},
   "outputs": [
    {
     "name": "stdout",
     "output_type": "stream",
     "text": [
      "Using 100 thirty turn trials the probality of going bankrupt was  0.18\n",
      "Using 500 thirty turn trials the probality of going bankrupt was  0.248\n",
      "Using 5000 thirty turn trials the probality of going bankrupt was  0.2288\n"
     ]
    }
   ],
   "source": [
    "#Runs 30 turns and returns 0 if player is bankrupt \n",
    "def start_bankrupt(x,y):\n",
    "    i =0\n",
    "    while(i<30):\n",
    "        a,b = miniopoly_turn(x,y)\n",
    "        x,y = a,b\n",
    "        i = i + 1   \n",
    "        if b == 0:\n",
    "            return b\n",
    "\n",
    "#calcuates the probablity, # of bankrupt players / # of trials\n",
    "def probablity_bankrupt(trials):\n",
    "    i = 0 \n",
    "    Sum = 0\n",
    "    while(i<trials):\n",
    "        Sum = Sum + np.sum(start_bankrupt(0,200)== 0)\n",
    "        i = i + 1\n",
    "    probality = Sum/trials \n",
    "    return probality\n",
    "\n",
    "print(\"Using 100 thirty turn trials, the probality of going bankrupt was \",probablity_bankrupt(100))\n",
    "print(\"Using 500 thirty turn trials, the probality of going bankrupt was \",probablity_bankrupt(500))\n",
    "print(\"Using 5000 thirty turn trials, the probality of going bankrupt was \",probablity_bankrupt(5000))"
   ]
  },
  {
   "cell_type": "markdown",
   "metadata": {},
   "source": [
    "**Part D**: Use your code from **Part A** to estimate the probability that a player goes bankrupt in the first 30 turns _given_ that they went to **Jail** at least once.  Is a player more or less likely to go bankrupt if they've been to **Jail**?  "
   ]
  },
  {
   "cell_type": "code",
   "execution_count": null,
   "metadata": {},
   "outputs": [],
   "source": [
    "def start_bankrupt_GivenJailed(x,y):\n",
    "    i =0\n",
    "    z=0\n",
    "    while(i<30):  \n",
    "        a,b = miniopoly_turn(x,y)\n",
    "        if a == 30: z = 1 \n",
    "        x,y = a,b\n",
    "        #print (a,b,z)\n",
    "        i = i + 1\n",
    "        if (z==1 and b == 0):\n",
    "            return z\n",
    "        \n",
    "\n",
    "def probablity_bankrupt_GivenJailed(trials):\n",
    "    i = 0 \n",
    "    Sum = 0\n",
    "    while(i<trials):\n",
    "        Sum = Sum + np.sum(start_bankrupt_GivenJailed(0,200)== 1)\n",
    "        i = i + 1\n",
    "    probality = Sum/trials \n",
    "    return probality\n",
    "\n",
    "#b = probablity_bankrupt_GivenJailed(500)\n",
    "\n",
    "print(\"Using 100 thirty turn trials given Jail happend, the probality of going bankrupt was\",probablity_bankrupt_GivenJailed(100))\n",
    "print(\"Using 500 thirty turn trials given Jail happend, the probality of going bankrupt was\",probablity_bankrupt_GivenJailed(500))\n",
    "print(\"Using 5000 thirty turn trials given Jail happend, the probality of going bankrupt was\",probablity_bankrupt_GivenJailed(5000))"
   ]
  },
  {
   "cell_type": "markdown",
   "metadata": {},
   "source": [
    "**Part E**: Use your code from **Part A** to estimate the probability that a player goes bankrupt in the first 30 turns _given_ that they passed **Go** two or more times.  Is a player more or less likely to go bankrupt if they've managed to pass **Go** at least twice?"
   ]
  },
  {
   "cell_type": "code",
   "execution_count": 410,
   "metadata": {},
   "outputs": [
    {
     "data": {
      "text/plain": [
       "0.0"
      ]
     },
     "execution_count": 410,
     "metadata": {},
     "output_type": "execute_result"
    }
   ],
   "source": [
    "def start_bankrupt_GivenPass40(x,y):\n",
    "    i =0\n",
    "    z=0\n",
    "    w = 999\n",
    "    while(i<30):\n",
    "        a,b,c = miniopoly_turn_withMove(x,y) \n",
    "        x,y = a,b\n",
    "        z = z + c\n",
    "        print (a,b,z)\n",
    "        i = i + 1\n",
    "        if (z>=80 and b == 0):\n",
    "            return b\n",
    "        \n",
    "\n",
    "def probablity_bankrupt_GivenPass40(trials):\n",
    "    i = 0 \n",
    "    Sum = 0\n",
    "    while(i<trials):\n",
    "        Sum = Sum + np.sum(start_bankrupt_GivenJailed(0,200)== 0)\n",
    "        i = i + 1\n",
    "    probality = Sum/trials \n",
    "    return probality\n",
    "\n",
    "#a = start_bankrupt_GivenPass40(0,200)\n",
    "b = probablity_bankrupt_GivenPass40(500)\n",
    "b"
   ]
  },
  {
   "cell_type": "markdown",
   "metadata": {},
   "source": [
    "### [15 points] Problem 5 \n",
    "***\n",
    "\n",
    "### Board Game Calamity! \n",
    "\n",
    "Dan and Chris have been playing board games for ages. Among the games they play a lot are Miniopoly and a similar game with slightly tweaked rules called **Fakeiopoly!**  Being Data-Nerds, they like to record the details of each game they play for future analysis.  Since the games are similar, they store the results for Miniopoly and Fakeiopoly in the same database.  Unfortunately, their data has been corrupted!  The only data that survived are the states (i.e. square numbers) they were on after each of the first 20 turns as well a the amount of cash they had on hand after each of the first 20 turns. This information is stored in the columns **S1**-**S20** and **C1**-**C20** in the following DataFrame. "
   ]
  },
  {
   "cell_type": "code",
   "execution_count": null,
   "metadata": {
    "collapsed": true
   },
   "outputs": [],
   "source": [
    "dfLog = pd.read_csv(\"https://raw.githubusercontent.com/chrisketelsen/csci3022/master/hmwk/hmwk02/game_log.csv\")\n",
    "dfLog.head()"
   ]
  },
  {
   "cell_type": "markdown",
   "metadata": {},
   "source": [
    "You might notice that there is one extra column in the DataFrame called **Game** which describes whether they were playing Miniopoly (labeled real) or Fakeiopoly (labeled fake).  Unfortunately, the **Game** labels only survived in the first half of the DataFrame.  As you can see, the **Game** labels in the second half of the database were lost. "
   ]
  },
  {
   "cell_type": "code",
   "execution_count": null,
   "metadata": {
    "collapsed": true
   },
   "outputs": [],
   "source": [
    "dfLog.tail()"
   ]
  },
  {
   "cell_type": "markdown",
   "metadata": {},
   "source": [
    "While they can deal with the loss of information about later turns, doing any kind of meaningful analysis on the data requires knowledge of which game they were playing.  Your job is to see if you can reconstruct the missing **Game** labels in the second half of the DataFrame.  \n",
    "\n",
    "Sadly, Fakeiopoly was a game of their own invention, and the rules were among the lost data.  But, being budding data scientists, you can probably glean some insights into the non-standard rules by exploring the data with intact labels in the first half of the DataFrame. \n",
    "\n",
    "**Part A**: Complete the function predict_game_log below to predict whether each game in the DataFrame is real or fake.  To help you, we've provided a score function that reports the accuracy of your predictions on the rows that have intact labels.  \n",
    "\n",
    "OK, here are the **rules**: \n",
    "\n",
    "- You may **NOT** load any external libraries beyond Pandas, Numpy, and Matplotlib.  Instead of fancy Machine Learning techniques you may have picked up on the streets, you'll have to rely on your probability, heuristics, and exploratory data analysis skills. \n",
    "- You may write any additional functions you like, but you should **NOT** change the way that predict_game_log is called or what it returns. \n",
    "\n",
    "And some final **guidance**: \n",
    "\n",
    "- While we hope you do well, and obtain great accuracies, we're more interested in seeing how you approach the problem.  As part of your solution you should describe in detail how you based your predictions.  A solution with high accuracy and no justification of you approach may receive a low score, while a solution with mediocre accuracy and good justification may receive a high score.  What aspects of the data lead you to believe that your approach might be successful? Supporting evidence might include graphical summaries of the data and extensive description of trial and error. "
   ]
  },
  {
   "cell_type": "code",
   "execution_count": null,
   "metadata": {
    "collapsed": true
   },
   "outputs": [],
   "source": [
    "def predict_game_log():\n",
    "    '''\n",
    "    Function to read in the corrupted DataFrame and make predictions\n",
    "    about which game is associated with each sequence of states \n",
    "    and cash values.  You should store your predictions (\"real\"/\"fake\")\n",
    "    in the column \"Prediction\" in the DataFrame. \n",
    "    '''\n",
    "    \n",
    "    dfPredict = pd.read_csv(\"https://raw.githubusercontent.com/chrisketelsen/csci3022/master/hmwk/hmwk02/game_log.csv\")\n",
    "    \n",
    "    dfPredict.loc[:, \"Prediction\"] = \"real\"\n",
    "    \n",
    "    return dfPredict "
   ]
  },
  {
   "cell_type": "code",
   "execution_count": null,
   "metadata": {
    "collapsed": true
   },
   "outputs": [],
   "source": [
    "def score(df):\n",
    "    '''\n",
    "    Function to score your predictions on the labeled game data. \n",
    "    '''\n",
    "    num_samples = len(df.loc[pd.notnull(df[\"Game\"])])\n",
    "    num_correct = np.sum(df.loc[pd.notnull(df[\"Game\"]), \"Game\"] == df.loc[pd.notnull(df[\"Game\"]), \"Prediction\"])\n",
    "    print(\"accuracy on labeled data: {}\".format(num_correct / num_samples))"
   ]
  },
  {
   "cell_type": "code",
   "execution_count": null,
   "metadata": {
    "collapsed": true
   },
   "outputs": [],
   "source": []
  },
  {
   "cell_type": "markdown",
   "metadata": {},
   "source": [
    "**[Extra Credit] Part B**: Based on your exploratory data analysis, can you predict how the rules of Fakeiopoly differ from Miniopoly?  Be sure to thoroughly justify your conclusions. "
   ]
  },
  {
   "cell_type": "code",
   "execution_count": null,
   "metadata": {
    "collapsed": true
   },
   "outputs": [],
   "source": []
  },
  {
   "cell_type": "markdown",
   "metadata": {},
   "source": [
    "### Challenge Problem - Night Falls. A Storm Rolls In. Can You Cross The River?\n",
    "***\n",
    "\n",
    "In every homework assignment we'll give you a Challenge Problem.  Challenge Problems never need to be turned in (and in fact, will not be graded) but we encourage you to give them a shot (after completing the required homework problems) and discuss them with your classmates and your instructors. \n",
    "\n",
    "The following Challenge Problem was a [Riddler](https://fivethirtyeight.com/tag/the-riddler/) on [FiveThirtyEight](https://fivethirtyeight.com) a few years back. \n",
    "\n",
    "You’re on the north shore of a river, and want to cross to the south, via a series of 13 bridges and six islands, which you can see in the diagram below. But, as you approach the water, night falls, a bad storm rolls in, and you’re forced to wait until morning to try to cross. Overnight, the storm could render some of the bridges unusable — it has a 50 percent chance of knocking out each of the bridges. (The chance is independent for each bridge.)\n",
    "\n",
    "<br>\n",
    "\n",
    "![alt text](https://espnfivethirtyeight.files.wordpress.com/2016/01/roeder-riddler-diagram-11.png?w=575&h=449&quality=90&strip=info)\n",
    "\n",
    "<br>\n",
    "\n",
    "What’s the probability you will be able to cross the river in the morning? (You have no boat, can’t swim, can’t fix the bridges, etc. No tricks.)"
   ]
  },
  {
   "cell_type": "code",
   "execution_count": null,
   "metadata": {
    "collapsed": true
   },
   "outputs": [],
   "source": []
  }
 ],
 "metadata": {
  "kernelspec": {
   "display_name": "Python 3",
   "language": "python",
   "name": "python3"
  },
  "language_info": {
   "codemirror_mode": {
    "name": "ipython",
    "version": 3
   },
   "file_extension": ".py",
   "mimetype": "text/x-python",
   "name": "python",
   "nbconvert_exporter": "python",
   "pygments_lexer": "ipython3",
   "version": "3.6.1"
  }
 },
 "nbformat": 4,
 "nbformat_minor": 2
}
